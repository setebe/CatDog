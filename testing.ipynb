{
  "nbformat": 4,
  "nbformat_minor": 0,
  "metadata": {
    "colab": {
      "name": "testing.ipynb",
      "provenance": [],
      "authorship_tag": "ABX9TyOW4wsujFiN3p4ShBw4ePRi",
      "include_colab_link": true
    },
    "kernelspec": {
      "name": "python3",
      "display_name": "Python 3"
    },
    "language_info": {
      "name": "python"
    },
    "accelerator": "GPU"
  },
  "cells": [
    {
      "cell_type": "markdown",
      "metadata": {
        "id": "view-in-github",
        "colab_type": "text"
      },
      "source": [
        "<a href=\"https://colab.research.google.com/github/setebe/CatDog/blob/master/testing.ipynb\" target=\"_parent\"><img src=\"https://colab.research.google.com/assets/colab-badge.svg\" alt=\"Open In Colab\"/></a>"
      ]
    },
    {
      "cell_type": "code",
      "source": [
        "import tensorflow as tf \n",
        "\n",
        "if tf.test.gpu_device_name(): \n",
        "    print('Default GPU Device: {}'.format(tf.test.gpu_device_name()))\n",
        "else:\n",
        "   print(\"Please install GPU version of TF\")"
      ],
      "metadata": {
        "colab": {
          "base_uri": "https://localhost:8080/"
        },
        "id": "cDagT-MuBkIb",
        "outputId": "60965e1e-2645-43cd-9c6e-0b3d923ad2b6"
      },
      "execution_count": 1,
      "outputs": [
        {
          "output_type": "stream",
          "name": "stdout",
          "text": [
            "Default GPU Device: /device:GPU:0\n"
          ]
        }
      ]
    },
    {
      "cell_type": "code",
      "source": [
        "import numpy as np\n",
        "import matplotlib.pyplot as plt\n",
        "import os \n",
        "import cv2"
      ],
      "metadata": {
        "id": "0VO4iH3u_1S3"
      },
      "execution_count": 2,
      "outputs": []
    },
    {
      "cell_type": "code",
      "source": [
        "from tensorflow.python.keras.callbacks import TensorBoard\n",
        "DATADIR = \"./dataset\"\n",
        "CATEGORIES = [\"Dog\",\"Cat\"]\n",
        "IMG_SIZE = 100\n",
        "import time\n",
        "NAME=\"CATS_VS_DOGS_ML_100X-{}\".format(int(time.time()))\n",
        "tensorboard = TensorBoard(log_dir=\"logs/{}\".format(NAME))"
      ],
      "metadata": {
        "id": "fFIqZ6x2_49o"
      },
      "execution_count": 27,
      "outputs": []
    },
    {
      "cell_type": "code",
      "source": [
        "training_data = []\n",
        "def create_training_data():\n",
        "    for category in CATEGORIES:\n",
        "        path = os.path.join(DATADIR,category)\n",
        "        class_num = CATEGORIES.index(category)\n",
        "        for img in os.listdir(path):\n",
        "            try:\n",
        "                img_array = cv2.imread(os.path.join(path,img), cv2.IMREAD_GRAYSCALE)\n",
        "                new_array = cv2.resize(img_array,(IMG_SIZE,IMG_SIZE))\n",
        "                training_data.append([new_array,class_num])\n",
        "                # plt.imshow(new_array,cmap =\"gray\")\n",
        "                # plt.show()\n",
        "                # break\n",
        "            except Exception as e:\n",
        "                pass\n",
        "\n",
        "create_training_data()\n",
        "print(len(training_data))"
      ],
      "metadata": {
        "colab": {
          "base_uri": "https://localhost:8080/"
        },
        "id": "_mueyzxE__PR",
        "outputId": "99f39ac1-98fb-4f5c-ab9d-5e15cd487b2d"
      },
      "execution_count": 28,
      "outputs": [
        {
          "output_type": "stream",
          "name": "stdout",
          "text": [
            "1024\n"
          ]
        }
      ]
    },
    {
      "cell_type": "code",
      "source": [
        "\n",
        "x = []\n",
        "y = []\n",
        "\n",
        "for features, label in training_data:\n",
        "    x.append(features)\n",
        "    y.append(label)\n",
        "\n",
        "x = np.array(x).reshape(-1,IMG_SIZE,IMG_SIZE,1)\n",
        "\n",
        "import pickle\n",
        "pickle_out = open(\"x.pickle\",\"wb\")\n",
        "pickle.dump(x, pickle_out)\n",
        "pickle_out.close()\n",
        "\n",
        "pickle_out2 = open(\"y.pickle\",\"wb\")\n",
        "pickle.dump(y, pickle_out2)\n",
        "pickle_out2.close()\n"
      ],
      "metadata": {
        "id": "EOpRxCflAZ8Q"
      },
      "execution_count": 29,
      "outputs": []
    },
    {
      "cell_type": "code",
      "source": [
        "import tensorflow as tf\n",
        "from tensorflow.keras.models import Sequential\n",
        "from tensorflow.keras.layers import Dense, Dropout, Activation, Flatten, Conv2D, MaxPooling2D"
      ],
      "metadata": {
        "id": "Umf02KDlAiA1"
      },
      "execution_count": 30,
      "outputs": []
    },
    {
      "cell_type": "code",
      "source": [
        "x = pickle.load(open(\"x.pickle\",\"rb\"))\n",
        "y = pickle.load(open(\"y.pickle\",\"rb\"))\n",
        "#x = x/255.0\n",
        "\n",
        "x = np.array(x).reshape(-1, IMG_SIZE, IMG_SIZE, 1)\n",
        "\n",
        "y = np.array(y)\n",
        "\n"
      ],
      "metadata": {
        "id": "rWjX6TGvApYA"
      },
      "execution_count": 31,
      "outputs": []
    },
    {
      "cell_type": "code",
      "source": [
        "\n",
        "model  = Sequential()\n",
        "model.add(  Conv2D(64, (3,3), input_shape = x.shape[1:]) )\n",
        "model.add(Activation(\"relu\"))\n",
        "model.add(MaxPooling2D(pool_size=(2,2)))\n",
        "\n",
        "model.add(Conv2D(64, (3,3)))\n",
        "model.add(Activation(\"relu\"))\n",
        "model.add(MaxPooling2D(pool_size=(2,2)))\n",
        "\n",
        "model.add(Flatten())\n",
        "model.add(Dense(64))\n",
        "model.add(Activation(\"relu\"))\n",
        "\n",
        "model.add(Flatten())\n",
        "model.add(Dense(1))\n",
        "model.add(Activation('sigmoid'))\n",
        "\n",
        "model.compile(loss=\"binary_crossentropy\",optimizer=\"adam\",metrics = ['accuracy'])\n",
        "\n",
        "model.fit(x,y,batch_size=20, epochs=13, validation_split=0.1,callbacks=[tensorboard])"
      ],
      "metadata": {
        "colab": {
          "base_uri": "https://localhost:8080/"
        },
        "id": "Arg7uUuYAuaG",
        "outputId": "47c98a6e-32cb-4bed-c959-b643b6ed99d2"
      },
      "execution_count": 32,
      "outputs": [
        {
          "output_type": "stream",
          "name": "stdout",
          "text": [
            "Epoch 1/13\n",
            "47/47 [==============================] - 2s 37ms/step - loss: 20.2519 - accuracy: 0.5288 - val_loss: 0.7261 - val_accuracy: 0.2816\n",
            "Epoch 2/13\n",
            "47/47 [==============================] - 1s 25ms/step - loss: 0.6142 - accuracy: 0.6645 - val_loss: 1.0375 - val_accuracy: 0.2621\n",
            "Epoch 3/13\n",
            "47/47 [==============================] - 1s 24ms/step - loss: 0.4587 - accuracy: 0.7861 - val_loss: 0.8527 - val_accuracy: 0.5049\n",
            "Epoch 4/13\n",
            "47/47 [==============================] - 1s 24ms/step - loss: 0.2930 - accuracy: 0.8882 - val_loss: 1.2590 - val_accuracy: 0.5049\n",
            "Epoch 5/13\n",
            "47/47 [==============================] - 1s 24ms/step - loss: 0.2406 - accuracy: 0.8893 - val_loss: 1.6205 - val_accuracy: 0.4563\n",
            "Epoch 6/13\n",
            "47/47 [==============================] - 1s 23ms/step - loss: 0.1525 - accuracy: 0.9479 - val_loss: 1.6167 - val_accuracy: 0.4854\n",
            "Epoch 7/13\n",
            "47/47 [==============================] - 1s 24ms/step - loss: 0.1031 - accuracy: 0.9718 - val_loss: 3.4401 - val_accuracy: 0.3981\n",
            "Epoch 8/13\n",
            "47/47 [==============================] - 1s 24ms/step - loss: 0.0534 - accuracy: 0.9815 - val_loss: 2.1140 - val_accuracy: 0.5437\n",
            "Epoch 9/13\n",
            "47/47 [==============================] - 1s 24ms/step - loss: 0.0286 - accuracy: 0.9902 - val_loss: 2.9306 - val_accuracy: 0.4951\n",
            "Epoch 10/13\n",
            "47/47 [==============================] - 1s 24ms/step - loss: 0.0134 - accuracy: 0.9946 - val_loss: 4.5131 - val_accuracy: 0.4369\n",
            "Epoch 11/13\n",
            "47/47 [==============================] - 1s 24ms/step - loss: 0.0075 - accuracy: 0.9967 - val_loss: 4.0907 - val_accuracy: 0.4951\n",
            "Epoch 12/13\n",
            "47/47 [==============================] - 1s 24ms/step - loss: 0.0045 - accuracy: 0.9978 - val_loss: 4.6705 - val_accuracy: 0.4466\n",
            "Epoch 13/13\n",
            "47/47 [==============================] - 1s 24ms/step - loss: 0.0026 - accuracy: 0.9989 - val_loss: 4.4035 - val_accuracy: 0.5146\n"
          ]
        },
        {
          "output_type": "execute_result",
          "data": {
            "text/plain": [
              "<keras.callbacks.History at 0x7f7fa5688510>"
            ]
          },
          "metadata": {},
          "execution_count": 32
        }
      ]
    }
  ]
}